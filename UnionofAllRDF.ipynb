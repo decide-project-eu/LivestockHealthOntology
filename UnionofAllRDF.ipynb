{
 "cells": [
  {
   "cell_type": "code",
   "execution_count": null,
   "id": "7d32abff",
   "metadata": {},
   "outputs": [],
   "source": [
    "! pip install pandas\n",
    "! pip install openpyxl\n",
    "\n",
    "import pandas as pd\n",
    "import rdflib\n",
    "import hashlib\n",
    "import numpy as np\n",
    "from datetime import datetime\n",
    "from pandas.api.types import CategoricalDtype\n",
    "from rdflib import Literal, Namespace, RDF, URIRef\n",
    "from rdflib.namespace import FOAF, XSD\n",
    "from rdflib import Graph, Namespace, RDF, RDFS, OWL\n",
    "from rdflib.plugins.sparql import prepareQuery\n",
    "from pyspark.sql.functions import when, col, lit"
   ]
  },
  {
   "cell_type": "markdown",
   "id": "76f5d238",
   "metadata": {},
   "source": [
    "### Step01: Load RDF data from files\n"
   ]
  },
  {
   "cell_type": "code",
   "execution_count": null,
   "id": "07e64af1",
   "metadata": {},
   "outputs": [],
   "source": [
    "# Load RDF data\n",
    "rdf_files = [\n",
    "    \"output/RDFoutputCattleSampleLab1.ttl\",\n",
    "    \"output/RDFoutputCattleSampleLab2.ttl\",\n",
    "    \"output/RDFoutputCattleSampleLab3.ttl\",\n",
    "    \"output/RDFoutputCattleSampleLab4.ttl\",\n",
    "    \"output/RDFoutputCattleSampleLab5.ttl\",\n",
    "    \"output/RDFoutputPigSampleLab1.rdf\",\n",
    "    \"output/RDFoutputPigSampleLab2.rdf\",\n",
    "    \"output/RDFoutputPigSampleLab3.rdf\",\n",
    "    \"output/RDFoutputPigSampleLab4.rdf\",\n",
    "    \"output/RDFoutputPigSampleLab5.rdf\",\n",
    "    \"output/RDFoutputPoultrySampleLab1.rdf\",\n",
    "    \"output/RDFoutputSalmonSampleLab1.rdf\",\n",
    "]\n",
    "\n",
    "g = Graph()\n",
    "for rdf_file in rdf_files:\n",
    "    g.parse(rdf_file, format=\"turtle\")\n"
   ]
  },
  {
   "cell_type": "markdown",
   "id": "3d33b4e6",
   "metadata": {},
   "source": [
    "# If you want to print graph then following is the procedure to print graph"
   ]
  },
  {
   "cell_type": "code",
   "execution_count": null,
   "id": "2d3b71b7",
   "metadata": {},
   "outputs": [],
   "source": [
    "\n",
    "# Initialize lists to store RDF subjects\n",
    "rdf_subjects = []\n",
    "\n",
    "# Iterate through RDF triples and extract subjects\n",
    "for subject, _, _ in g:\n",
    "    rdf_subjects.append(subject)\n",
    "\n",
    "# Convert RDF subjects to DataFrames\n",
    "data_frames = []\n",
    "for subject in rdf_subjects:\n",
    "    rdf_data = g.triples((subject, None, None))\n",
    "    data = {}\n",
    "    for _, predicate, obj in rdf_data:\n",
    "        column_name = predicate.split(\"#\")[-1]\n",
    "        data[column_name] = [obj.toPython() if isinstance(obj, Literal) else obj]\n",
    "    df = pd.DataFrame(data)\n",
    "    data_frames.append(df)\n",
    "\n",
    "# Concatenate DataFrames\n",
    "barometer_Tableau = pd.concat(data_frames, ignore_index=True)\n",
    "\n",
    "# Convert to datetime and add Month and Year columns\n",
    "barometer_Tableau['http://www.purl.org/decide/LivestockHealthOntohasDate'] = pd.to_datetime(barometer_Tableau['http://www.purl.org/decide/LivestockHealthOntohasDate'])\n",
    "barometer_Tableau['Month'] = barometer_Tableau['http://www.purl.org/decide/LivestockHealthOntohasDate'].dt.month\n",
    "barometer_Tableau['Year'] = barometer_Tableau['http://www.purl.org/decide/LivestockHealthOntohasDate'].dt.year\n"
   ]
  },
  {
   "cell_type": "code",
   "execution_count": null,
   "id": "40f900a1",
   "metadata": {},
   "outputs": [],
   "source": [
    "barometer_Tableau"
   ]
  },
  {
   "cell_type": "code",
   "execution_count": null,
   "id": "a80a520b",
   "metadata": {},
   "outputs": [],
   "source": [
    "# Define filename and folder path for RDF\n",
    "folder_path_rdf = \"output/\"\n",
    "base_filename   = \"barometer_combined\"\n",
    "current_date    = datetime.now().strftime(\"%Y-%m-%d\")\n",
    "new_filename_rdf = f\"{folder_path_rdf}{base_filename}_{current_date}.rdf\"\n",
    "\n",
    "# Save RDF graph to file\n",
    "g.serialize(new_filename_rdf, format=\"turtle\")"
   ]
  }
 ],
 "metadata": {
  "kernelspec": {
   "display_name": "Python 3 (ipykernel)",
   "language": "python",
   "name": "python3"
  },
  "language_info": {
   "codemirror_mode": {
    "name": "ipython",
    "version": 3
   },
   "file_extension": ".py",
   "mimetype": "text/x-python",
   "name": "python",
   "nbconvert_exporter": "python",
   "pygments_lexer": "ipython3",
   "version": "3.9.13"
  }
 },
 "nbformat": 4,
 "nbformat_minor": 5
}
